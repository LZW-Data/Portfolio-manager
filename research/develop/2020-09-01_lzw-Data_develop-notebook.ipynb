{
 "metadata": {
  "language_info": {
   "codemirror_mode": {
    "name": "ipython",
    "version": 3
   },
   "file_extension": ".py",
   "mimetype": "text/x-python",
   "name": "python",
   "nbconvert_exporter": "python",
   "pygments_lexer": "ipython3",
   "version": "3.8.5-final"
  },
  "orig_nbformat": 2,
  "kernelspec": {
   "name": "python3",
   "display_name": "Python 3"
  }
 },
 "nbformat": 4,
 "nbformat_minor": 2,
 "cells": [
  {
   "source": [
    "#Initial Data Exploration and Experimentation\n",
    "\n",
    "We will use data gathered from quandl using their API (key gained from free account)\n",
    "\n",
    "##Load data"
   ],
   "cell_type": "markdown",
   "metadata": {}
  },
  {
   "cell_type": "code",
   "execution_count": 2,
   "metadata": {},
   "outputs": [
    {
     "output_type": "execute_result",
     "data": {
      "text/plain": [
       "             Open   High    Low  Close       Volume  Ex-Dividend  Split Ratio  \\\n",
       "Date                                                                            \n",
       "2010-11-18  35.00  35.99  33.89  34.19  457044300.0          0.0          1.0   \n",
       "2010-11-19  34.15  34.50  33.11  34.26  107842000.0          0.0          1.0   \n",
       "2010-11-22  34.20  34.48  33.81  34.08   36650600.0          0.0          1.0   \n",
       "2010-11-23  33.95  33.99  33.19  33.25   31170200.0          0.0          1.0   \n",
       "2010-11-24  33.73  33.80  33.22  33.48   26138000.0          0.0          1.0   \n",
       "\n",
       "            Adj. Open  Adj. High   Adj. Low  Adj. Close  Adj. Volume  \n",
       "Date                                                                  \n",
       "2010-11-18  29.988317  30.836558  29.037259   29.294302  457044300.0  \n",
       "2010-11-19  29.260029  29.559912  28.368948   29.354278  107842000.0  \n",
       "2010-11-22  29.302870  29.542776  28.968714   29.200053   36650600.0  \n",
       "2010-11-23  29.088668  29.122940  28.437493   28.488901   31170200.0  \n",
       "2010-11-24  28.900170  28.960146  28.463197   28.685967   26138000.0  "
      ],
      "text/html": "<div>\n<style scoped>\n    .dataframe tbody tr th:only-of-type {\n        vertical-align: middle;\n    }\n\n    .dataframe tbody tr th {\n        vertical-align: top;\n    }\n\n    .dataframe thead th {\n        text-align: right;\n    }\n</style>\n<table border=\"1\" class=\"dataframe\">\n  <thead>\n    <tr style=\"text-align: right;\">\n      <th></th>\n      <th>Open</th>\n      <th>High</th>\n      <th>Low</th>\n      <th>Close</th>\n      <th>Volume</th>\n      <th>Ex-Dividend</th>\n      <th>Split Ratio</th>\n      <th>Adj. Open</th>\n      <th>Adj. High</th>\n      <th>Adj. Low</th>\n      <th>Adj. Close</th>\n      <th>Adj. Volume</th>\n    </tr>\n    <tr>\n      <th>Date</th>\n      <th></th>\n      <th></th>\n      <th></th>\n      <th></th>\n      <th></th>\n      <th></th>\n      <th></th>\n      <th></th>\n      <th></th>\n      <th></th>\n      <th></th>\n      <th></th>\n    </tr>\n  </thead>\n  <tbody>\n    <tr>\n      <th>2010-11-18</th>\n      <td>35.00</td>\n      <td>35.99</td>\n      <td>33.89</td>\n      <td>34.19</td>\n      <td>457044300.0</td>\n      <td>0.0</td>\n      <td>1.0</td>\n      <td>29.988317</td>\n      <td>30.836558</td>\n      <td>29.037259</td>\n      <td>29.294302</td>\n      <td>457044300.0</td>\n    </tr>\n    <tr>\n      <th>2010-11-19</th>\n      <td>34.15</td>\n      <td>34.50</td>\n      <td>33.11</td>\n      <td>34.26</td>\n      <td>107842000.0</td>\n      <td>0.0</td>\n      <td>1.0</td>\n      <td>29.260029</td>\n      <td>29.559912</td>\n      <td>28.368948</td>\n      <td>29.354278</td>\n      <td>107842000.0</td>\n    </tr>\n    <tr>\n      <th>2010-11-22</th>\n      <td>34.20</td>\n      <td>34.48</td>\n      <td>33.81</td>\n      <td>34.08</td>\n      <td>36650600.0</td>\n      <td>0.0</td>\n      <td>1.0</td>\n      <td>29.302870</td>\n      <td>29.542776</td>\n      <td>28.968714</td>\n      <td>29.200053</td>\n      <td>36650600.0</td>\n    </tr>\n    <tr>\n      <th>2010-11-23</th>\n      <td>33.95</td>\n      <td>33.99</td>\n      <td>33.19</td>\n      <td>33.25</td>\n      <td>31170200.0</td>\n      <td>0.0</td>\n      <td>1.0</td>\n      <td>29.088668</td>\n      <td>29.122940</td>\n      <td>28.437493</td>\n      <td>28.488901</td>\n      <td>31170200.0</td>\n    </tr>\n    <tr>\n      <th>2010-11-24</th>\n      <td>33.73</td>\n      <td>33.80</td>\n      <td>33.22</td>\n      <td>33.48</td>\n      <td>26138000.0</td>\n      <td>0.0</td>\n      <td>1.0</td>\n      <td>28.900170</td>\n      <td>28.960146</td>\n      <td>28.463197</td>\n      <td>28.685967</td>\n      <td>26138000.0</td>\n    </tr>\n  </tbody>\n</table>\n</div>"
     },
     "metadata": {},
     "execution_count": 2
    }
   ],
   "source": [
    "# quandl for financial data\n",
    "import quandl\n",
    "# pandas for data manipulation\n",
    "import pandas as pd\n",
    "quandl.ApiConfig.api_key = 'RsxvmbsRkD-Kcd7eLeYc'\n",
    "# Retrieve TSLA data from Quandl\n",
    "tesla = quandl.get('WIKI/TSLA')\n",
    "# Retrieve the GM data from Quandl\n",
    "gm = quandl.get('WIKI/GM')\n",
    "gm.head(5)"
   ]
  },
  {
   "source": [
    "##initial graphing and exploration"
   ],
   "cell_type": "markdown",
   "metadata": {}
  },
  {
   "source": [
    "##explore data"
   ],
   "cell_type": "markdown",
   "metadata": {}
  },
  {
   "cell_type": "code",
   "execution_count": 4,
   "metadata": {},
   "outputs": [
    {
     "output_type": "error",
     "ename": "ModuleNotFoundError",
     "evalue": "No module named 'tensorflow'",
     "traceback": [
      "\u001b[1;31m---------------------------------------------------------------------------\u001b[0m",
      "\u001b[1;31mModuleNotFoundError\u001b[0m                       Traceback (most recent call last)",
      "\u001b[1;32m<ipython-input-4-664c2f160a37>\u001b[0m in \u001b[0;36m<module>\u001b[1;34m\u001b[0m\n\u001b[0;32m      5\u001b[0m \u001b[1;32mfrom\u001b[0m \u001b[0msklearn\u001b[0m\u001b[1;33m.\u001b[0m\u001b[0mmetrics\u001b[0m \u001b[1;32mimport\u001b[0m \u001b[0mconfusion_matrix\u001b[0m\u001b[1;33m\u001b[0m\u001b[1;33m\u001b[0m\u001b[0m\n\u001b[0;32m      6\u001b[0m \u001b[1;32mfrom\u001b[0m \u001b[0msklearn\u001b[0m\u001b[1;33m.\u001b[0m\u001b[0mmodel_selection\u001b[0m \u001b[1;32mimport\u001b[0m \u001b[0mKFold\u001b[0m\u001b[1;33m\u001b[0m\u001b[1;33m\u001b[0m\u001b[0m\n\u001b[1;32m----> 7\u001b[1;33m \u001b[1;32mimport\u001b[0m \u001b[0mtensorflow\u001b[0m \u001b[1;32mas\u001b[0m \u001b[0mtf\u001b[0m\u001b[1;33m\u001b[0m\u001b[1;33m\u001b[0m\u001b[0m\n\u001b[0m\u001b[0;32m      8\u001b[0m \u001b[1;33m\u001b[0m\u001b[0m\n\u001b[0;32m      9\u001b[0m \u001b[1;32mimport\u001b[0m \u001b[0mmatplotlib\u001b[0m \u001b[1;32mas\u001b[0m \u001b[0mmpl\u001b[0m\u001b[1;33m\u001b[0m\u001b[1;33m\u001b[0m\u001b[0m\n",
      "\u001b[1;31mModuleNotFoundError\u001b[0m: No module named 'tensorflow'"
     ]
    }
   ],
   "source": [
    "import numpy as np\n",
    "import pandas as pd\n",
    "import pandas_datareader.data as pdr\n",
    "from sklearn.linear_model import LogisticRegression\n",
    "from sklearn.metrics import confusion_matrix\n",
    "from sklearn.model_selection import KFold\n",
    "import tensorflow as tf \n",
    "import matplotlib as mpl\n",
    "import matplotlib.pyplot as plt\n",
    "import time\n",
    "import datetime as dt\n",
    "import pywt\n",
    "import pywt.data\n",
    "\n",
    "#Import data from yahoo finance\n",
    "stock_data = pdr.get_data_yahoo(ticker, start, end);\n",
    "\n",
    "print(\"done\")\n",
    "\n"
   ]
  },
  {
   "source": [
    "#blank\n"
   ],
   "cell_type": "markdown",
   "metadata": {}
  }
 ]
}